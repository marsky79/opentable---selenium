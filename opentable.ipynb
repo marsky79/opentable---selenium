{
 "cells": [
  {
   "cell_type": "code",
   "execution_count": 15,
   "id": "931a060f",
   "metadata": {},
   "outputs": [],
   "source": [
    "from selenium import webdriver\n",
    "from selenium.webdriver.common.by import By\n",
    "import pandas as pd"
   ]
  },
  {
   "cell_type": "code",
   "execution_count": 16,
   "id": "fe439c4d",
   "metadata": {},
   "outputs": [],
   "source": [
    "restaurant_names = []\n",
    "star_ratings = []\n",
    "number_of_bookings = []\n",
    "number_of_reviews = []\n",
    "addresses = []\n",
    "cities = []\n",
    "cuisine_types = []\n",
    "phones =  []\n",
    "websites = []\n"
   ]
  },
  {
   "cell_type": "code",
   "execution_count": 17,
   "id": "ae369ff1",
   "metadata": {},
   "outputs": [],
   "source": [
    "driver = webdriver.Chrome()\n",
    "url_cities = ['https://www.opentable.ca/s?dateTime=2023-11-29T19%3A00%3A00&covers=2&metroId=274&regionIds%5B%5D=&neighborhoodIds%5B%5D=&term=&shouldUseLatLongSearch=false&originCorrelationId=382da182-ce8e-4faa-8edc-0ce100422cf3,\n",
    "       https://www.opentable.ca/s?dateTime=2023-11-29T19%3A00%3A00&covers=2&metroId=77&regionIds%5B%5D=&neighborhoodIds%5B%5D=&term=&shouldUseLatLongSearch=false&originCorrelationId=af7fcb15-fe13-4674-960e-38046fb84022,\n",
    "       https://www.opentable.ca/s?dateTime=2023-11-29T19%3A00%3A00&covers=2&metroId=27&regionIds%5B%5D=&neighborhoodIds%5B%5D=&term=&shouldUseLatLongSearch=false&originCorrelationId=373977a9-a3d9-4c2c-8422-e637ccf028ed, \n",
    "       https://www.opentable.ca/s?dateTime=2023-11-29T19%3A00%3A00&covers=2&metroId=75&regionIds%5B%5D=&neighborhoodIds%5B%5D=&term=&shouldUseLatLongSearch=false&originCorrelationId=8f99caaa-cdc2-4604-bf0a-0330a8ccb6fb,\n",
    "       https://www.opentable.ca/s?dateTime=2023-11-22T18%3A00%3A00&covers=2&metroId=3450&regionIds%5B%5D=&neighborhoodIds%5B%5D=&term=&shouldUseLatLongSearch=false&originCorrelationId=2ee8d65c-7b5a-4647-9408-a93a0147f5c0,\n",
    "       https://www.opentable.ca/s?dateTime=2023-11-22T18%3A00%3A00&covers=2&metroId=406&regionIds%5B%5D=&neighborhoodIds%5B%5D=&term=&shouldUseLatLongSearch=false&originCorrelationId=42c1b94f-47ed-4f6f-81e1-380cfe5d6bab,\n",
    "       https://www.opentable.ca/s?dateTime=2023-11-22T18%3A00%3A00&covers=2&metroId=451&regionIds%5B%5D=&neighborhoodIds%5B%5D=&term=&shouldUseLatLongSearch=false&originCorrelationId=90f2975a-f6dc-4169-b21f-820c4953bbda,\n",
    "       https://www.opentable.ca/s?dateTime=2023-11-22T18%3A00%3A00&covers=2&metroId=74&regionIds%5B%5D=&neighborhoodIds%5B%5D=&term=&shouldUseLatLongSearch=false,\n",
    "       https://www.opentable.ca/s?dateTime=2023-11-22T18%3A00%3A00&covers=2&metroId=73&regionIds%5B%5D=&neighborhoodIds%5B%5D=&term=&shouldUseLatLongSearch=false,\n",
    "       https://www.opentable.ca/s?dateTime=2023-11-22T18%3A00%3A00&covers=2&metroId=54&regionIds%5B%5D=&neighborhoodIds%5B%5D=&term=&shouldUseLatLongSearch=false&originCorrelationId=00999fc5-64b0-4d68-a094-53b3df86069e,\n",
    "       https://www.opentable.ca/s?dateTime=2023-11-22T18%3A00%3A00&covers=2&metroId=3369&regionIds%5B%5D=&neighborhoodIds%5B%5D=&term=&shouldUseLatLongSearch=false&originCorrelationId=7b7d5417-cde2-4236-8ace-6d83c853644e\n",
    "       ']\n",
    "restos = driver.get('url_cities')\n"
   ]
  },
  {
   "cell_type": "code",
   "execution_count": 18,
   "id": "a38f670d",
   "metadata": {},
   "outputs": [],
   "source": [
    "for page in range(1, 1):\n",
    "    driver.find_elements(By.XPATH, '//div[@class=\"rj77IvI83cyWF7lgKIEx\"]').click()\n",
    "    restaurant_name = driver.find_elements(By.CSS_SELECTOR, '#mainContent > div > div.mD254pz2eSUyUlj20g6Q > div.I2JgeLqzlyo_b9cnfCRJ > section:nth-child(2) > div:nth-child(1) > div.CC6st8x8veK8SMaC_PwH > h1')\n",
    "    star_rating = driver.find_elements(By.CSS_SELECTOR, '#ratingInfo > div')\n",
    "    number_of_booking = driver.find_elements(By.XPATH, '/html/body/div[1]/div/div/main/div/div[2]/div[1]/section[2]/div[4]/article[1]/div/section/span/text')\n",
    "    number_of_review = driver.find_elements(By.CSS_SELECTOR, '#reviewInfo > span:nth-child(2)')\n",
    "    address = driver.find_elements(By.CSS_SELECTOR, '#mainContent > div > div.mD254pz2eSUyUlj20g6Q > div.I2JgeLqzlyo_b9cnfCRJ > section:nth-child(2) > div:nth-child(5) > section > div > div > div > div > ul:nth-child(2) > li:nth-child(1) > div > div > div > a')\n",
    "    city = driver.find_elements(By.CSS_SELECTOR, '#baseApp > div > header > ol > li:nth-child(5) > a')\n",
    "    cuisine_type = driver.find_elements(By.CSS_SELECTOR, '#mainContent > div > div.mD254pz2eSUyUlj20g6Q > div.I2JgeLqzlyo_b9cnfCRJ > section:nth-child(2) > div:nth-child(5) > section > div > div > div > div > ul:nth-child(1) > li:nth-child(3) > div > div > div')\n",
    "    phone = driver.find_elements(By.CSS_SELECTOR, '#mainContent > div > div.mD254pz2eSUyUlj20g6Q > div.I2JgeLqzlyo_b9cnfCRJ > section:nth-child(2) > div:nth-child(5) > section > div > div > div > div > ul:nth-child(1) > li:nth-child(5) > div > div > div')\n",
    "    website = driver.find_elemenets(By.CSS_SELECTOR, '#mainContent > div > div.mD254pz2eSUyUlj20g6Q > div.I2JgeLqzlyo_b9cnfCRJ > section:nth-child(2) > div:nth-child(5) > section > div > div > div > div > ul:nth-child(1) > li:nth-child(6) > div > div > div > a')\n",
    "    for item_restaurant_name in restaurant_name:\n",
    "        restaurant_names.append(item_restaurant_name.get_attribute('restaurant_names'))\n",
    "    for item_star_rating in star_rating:\n",
    "        star_ratings.append(item_star_rating.get_attribute('star_ratings'))\n",
    "    for item_number_of_booking in number_of_booking:\n",
    "        number_of_bookings.append(item_number_of_booking.get_attribute('number_of_bookings'))\n",
    "    for item_number_of_review in number_of_review:\n",
    "        number_of_reviews.append(item_number_of_review.get_attribute('number_of_reviews'))\n",
    "    for item_address in address:\n",
    "        addresses.append(item_address.get_attribute('addresses'))\n",
    "    for item_city in city:\n",
    "        cities.append(item_city.get_attribute('cities'))\n",
    "    for item_cuisine_type in cuisine_type:\n",
    "        cuisine_types.append(item_cuisine_type.get_attribute('cuisine_types'))\n",
    "    for item_phone in phone:\n",
    "        phones.append(item_phone.get_attribute('phones'))\n",
    "    for item_website in website:\n",
    "        websites.append(item_website('websites'))"
   ]
  },
  {
   "cell_type": "code",
   "execution_count": 55,
   "id": "9aabdd44",
   "metadata": {},
   "outputs": [],
   "source": []
  }
 ],
 "metadata": {
  "kernelspec": {
   "display_name": "Python 3 (ipykernel)",
   "language": "python",
   "name": "python3"
  },
  "language_info": {
   "codemirror_mode": {
    "name": "ipython",
    "version": 3
   },
   "file_extension": ".py",
   "mimetype": "text/x-python",
   "name": "python",
   "nbconvert_exporter": "python",
   "pygments_lexer": "ipython3",
   "version": "3.10.9"
  }
 },
 "nbformat": 4,
 "nbformat_minor": 5
}
